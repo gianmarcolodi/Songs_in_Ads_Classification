{
 "cells": [
  {
   "attachments": {},
   "cell_type": "markdown",
   "metadata": {},
   "source": [
    "# SONG LABELING IN COMMERCIAL SECTORS\n",
    "*Creating a binary Pandas Dataframe with business sector labels for each song, retrieving the brand which used the specific song from [Songs used in commercials](https://www.songfacts.com/category/songs-used-in-commercials), and then choosing the appropriate sector for the brand.*"
   ]
  },
  {
   "attachments": {},
   "cell_type": "markdown",
   "metadata": {},
   "source": [
    "### Importing Libraries"
   ]
  },
  {
   "cell_type": "code",
   "execution_count": null,
   "metadata": {},
   "outputs": [],
   "source": [
    "import pandas as pd\n",
    "import collections"
   ]
  },
  {
   "attachments": {},
   "cell_type": "markdown",
   "metadata": {},
   "source": [
    "## 1. Sector Occurences\n",
    "*Counting the occurences of each sector chosen in the file ``brands.txt`` and saving counts in the file ``sect_occur.csv``*"
   ]
  },
  {
   "cell_type": "code",
   "execution_count": null,
   "metadata": {},
   "outputs": [],
   "source": [
    "with open(\"brands.txt\") as f:\n",
    "    data = f.readlines()\n",
    "    \n",
    "sectors = []\n",
    "# In brands.txt each sector found for each song is divided by a '|' symbol (each song can have been used in multiple tv commercials)\n",
    "data = [l.replace(\"\\n\",\"\").replace(\"\\t\",\"\").split(\"|\")[1:] for l in data]\n",
    "\n",
    "for row in data:\n",
    "    for sec in row:\n",
    "        sectors.append(sec)\n",
    "\n",
    "# Counting occurences\n",
    "occur = dict(collections.Counter(sectors))\n",
    "occur = [[k,v] for k,v in occur.items()]\n",
    "\n",
    "# Creating the csv file with the counts\n",
    "df = pd.DataFrame(occur, columns = [\"SECTOR\", \"OCCURRENCES\"])\n",
    "df.sort_values(by = [\"OCCURRENCES\"], ascending = False, inplace = True)\n",
    "df.to_csv(\"sect_occur.csv\", index = False)"
   ]
  },
  {
   "attachments": {},
   "cell_type": "markdown",
   "metadata": {},
   "source": [
    "## 2. Creating the Labels DataFrame\n",
    "*Most occurred sectors found after some cleaning:* \\\n",
    "**Car, Tech, Clothing, Beer, Soft Drink, Snack, Department Store, Finance, Sport, Food, Fast Food, Phone Company**"
   ]
  },
  {
   "cell_type": "code",
   "execution_count": null,
   "metadata": {},
   "outputs": [],
   "source": [
    "sectors = [\"Car\",\"Tech\",\"Clothing\",\"Beer\",\"Soft Drink\",\"Snack\",\"Department Store\",\"Finance\",\"Sport\",\"Food\",\"Fast Food\",\"Phone Company\"]\n",
    "\n",
    "# Removing subcategories\n",
    "data = [[x.split(\"(\")[0] for x in l] for l in data]\n",
    "\n",
    "# Defining a 0 matrix\n",
    "sectors_df = pd.DataFrame(0, index = range(len(data)), columns = sectors)\n",
    "\n",
    "# Writing 1 if a sector in the list i found for each song\n",
    "for i in range(len(data)):\n",
    "    for x in data[i]:\n",
    "        if x in sectors:\n",
    "            sectors_df.at[i,x] = 1\n",
    "\n",
    "# Updating the dataset, dropping songs with uncommon sectors\n",
    "feat_df = pd.read_csv(\"1. Dataset Creation/features.csv\")\n",
    "for i,row in sectors_df.iterrows():\n",
    "    row = list(row)\n",
    "    if 1 not in row:\n",
    "        sectors_df.drop(i, axis = 0, inplace = True)\n",
    "        feat_df.drop(i, axis = 0, inplace = True)\n",
    "\n",
    "sectors_df.reset_index(drop = True, inplace = True)\n",
    "feat_df.reset_index(drop = True, inplace = True)\n",
    "\n",
    "feat_df.to_csv(\"features_2.csv\", index = False)\n",
    "sectors_df.to_csv(\"sectors_2.csv\", index = False)"
   ]
  }
 ],
 "metadata": {
  "language_info": {
   "name": "python"
  },
  "orig_nbformat": 4
 },
 "nbformat": 4,
 "nbformat_minor": 2
}
