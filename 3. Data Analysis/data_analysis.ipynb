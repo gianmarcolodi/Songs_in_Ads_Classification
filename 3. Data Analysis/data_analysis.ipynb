{
 "cells": [
  {
   "attachments": {},
   "cell_type": "markdown",
   "metadata": {},
   "source": [
    "# DATA ANALYSIS\n",
    "*Studying data distribution with Box Plots and applying PCA.*"
   ]
  },
  {
   "attachments": {},
   "cell_type": "markdown",
   "metadata": {},
   "source": [
    "### Importing Libraries"
   ]
  },
  {
   "cell_type": "code",
   "execution_count": null,
   "metadata": {},
   "outputs": [],
   "source": [
    "import pandas as pd\n",
    "import numpy as np\n",
    "import matplotlib.pyplot as plt\n",
    "from sklearn.decomposition import PCA"
   ]
  },
  {
   "attachments": {},
   "cell_type": "markdown",
   "metadata": {},
   "source": [
    "## 1. Box Plots"
   ]
  },
  {
   "cell_type": "code",
   "execution_count": null,
   "metadata": {},
   "outputs": [],
   "source": [
    "feat_df = pd.read_csv(\"2. Labeling/features_2.csv\")\n",
    "sectors_df = pd.read_csv(\"2. Labeling/sectors_2.csv\")\n",
    "df = pd.concat([feat_df, sectors_df], axis = 1)\n",
    "features = list(feat_df.columns)\n",
    "sectors = list(sectors_df.columns)\n",
    "\n",
    "for f in features:\n",
    "    val = []\n",
    "    for s in sectors:\n",
    "        val.append(df.loc[df[s] == 1, f].values)\n",
    "    fig, ax = plt.subplots()\n",
    "    fig.set_size_inches(18, 10)\n",
    "    ax.boxplot(val, labels = sectors)\n",
    "    ax.set_title(f.capitalize())"
   ]
  },
  {
   "attachments": {},
   "cell_type": "markdown",
   "metadata": {},
   "source": [
    "## 2. PCA"
   ]
  },
  {
   "cell_type": "code",
   "execution_count": null,
   "metadata": {},
   "outputs": [],
   "source": [
    "# Normalization of 'tempo' and 'loudness' features\n",
    "feat_df[\"tempo\"] = (feat_df[\"tempo\"] - feat_df[\"tempo\"].min()) / (feat_df[\"tempo\"].max() - feat_df[\"tempo\"].min())\n",
    "feat_df[\"loudness\"] = (feat_df[\"loudness\"] - feat_df[\"loudness\"].min()) / (feat_df[\"loudness\"].max() - feat_df[\"loudness\"].min())\n",
    "\n",
    "pca = PCA()\n",
    "pca.fit(feat_df)\n",
    "\n",
    "var_ratio = pca.explained_variance_ratio\n",
    "print(var_ratio)\n",
    "print(np.cumsum(var_ratio))\n",
    "\n",
    "# 4 components chosen since the cumulated variance was higher than 90%\n",
    "pca = PCA(n_components = 4)\n",
    "pc4 = pca.fit_transform(feat_df)\n",
    "pc4_df = pd.DataFrame(pc4, columns = [\"PC1\",\"PC2\",\"PC3\",\"PC4\"])\n",
    "pc4_df.to_csv(\"pc4.csv\", index = False)"
   ]
  }
 ],
 "metadata": {
  "language_info": {
   "name": "python"
  },
  "orig_nbformat": 4
 },
 "nbformat": 4,
 "nbformat_minor": 2
}
