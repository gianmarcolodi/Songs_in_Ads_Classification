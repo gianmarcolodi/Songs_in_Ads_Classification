{
 "cells": [
  {
   "attachments": {},
   "cell_type": "markdown",
   "metadata": {},
   "source": [
    "# DATASET CREATION\n",
    "*Creating Pandas Dataframe containing all the songs from [Songs used in commercials](https://www.songfacts.com/category/songs-used-in-commercials), their Spotify ID and their acoustic features.*"
   ]
  },
  {
   "attachments": {},
   "cell_type": "markdown",
   "metadata": {},
   "source": [
    "### Importing Libraries and Connecting to *Spotify API*"
   ]
  },
  {
   "attachments": {},
   "cell_type": "markdown",
   "metadata": {},
   "source": [
    "*Importing ``pandas``, ``numpy`` and ``spotify.py`` module to access* Spotify *API.*"
   ]
  },
  {
   "cell_type": "code",
   "execution_count": null,
   "metadata": {},
   "outputs": [],
   "source": [
    "from spotify import SpotifyAPI\n",
    "import pandas as pd\n",
    "import numpy as np"
   ]
  },
  {
   "attachments": {},
   "cell_type": "markdown",
   "metadata": {},
   "source": [
    "*Accessing* Spotify API *with user credentials.*"
   ]
  },
  {
   "cell_type": "code",
   "execution_count": null,
   "metadata": {},
   "outputs": [],
   "source": [
    "client_id = '_CLIENT_ID_' # Add your client ID here\n",
    "client_secret = '_SECRET_ID_' # Add your secret ID here\n",
    "spoti = SpotifyAPI(client_id, client_secret)"
   ]
  },
  {
   "attachments": {},
   "cell_type": "markdown",
   "metadata": {},
   "source": [
    "## 1. Reading Songs and Collecting Their Spotify ID"
   ]
  },
  {
   "attachments": {},
   "cell_type": "markdown",
   "metadata": {},
   "source": [
    "### 1.1 Reading Songs"
   ]
  },
  {
   "attachments": {},
   "cell_type": "markdown",
   "metadata": {},
   "source": [
    "*Reading songs from ``songs_from_songfacts.txt`` and creating a cleaner python list.*"
   ]
  },
  {
   "cell_type": "code",
   "execution_count": null,
   "metadata": {},
   "outputs": [],
   "source": [
    "with open('songs_from_songfacts.txt') as f:\n",
    "    data = f.readlines()\n",
    "data = [line.replace('\\n','').split(' - ') for line in data]"
   ]
  },
  {
   "attachments": {},
   "cell_type": "markdown",
   "metadata": {},
   "source": [
    "### 1.2 Retrieving *Spotify* IDs"
   ]
  },
  {
   "attachments": {},
   "cell_type": "markdown",
   "metadata": {},
   "source": [
    "*Retrieving* Spotify *IDs for each song by searching title and artist.*"
   ]
  },
  {
   "cell_type": "code",
   "execution_count": null,
   "metadata": {},
   "outputs": [],
   "source": [
    "for el in data:\n",
    "    title = el[0]\n",
    "    artist = el[1]\n",
    "    res = spoti.search(title + ' ' + artist) # search func returns a result dict\n",
    "    try:\n",
    "        song = res['tracks']['items'][0]\n",
    "        el.append(song['id'])\n",
    "    except Exception:\n",
    "        el.append('') "
   ]
  },
  {
   "attachments": {},
   "cell_type": "markdown",
   "metadata": {},
   "source": [
    "### 1.3 DataFrame Creation and Exporting"
   ]
  },
  {
   "attachments": {},
   "cell_type": "markdown",
   "metadata": {},
   "source": [
    "*Creating a ``pandas`` Dataframe.*"
   ]
  },
  {
   "cell_type": "code",
   "execution_count": null,
   "metadata": {},
   "outputs": [],
   "source": [
    "songs_df = pd.DataFrame(data, columns = ['TITLE', 'ARTIST', 'ID'])"
   ]
  },
  {
   "attachments": {},
   "cell_type": "markdown",
   "metadata": {},
   "source": [
    "*Some wrong IDs found, replacing them after a manual check.*"
   ]
  },
  {
   "cell_type": "code",
   "execution_count": null,
   "metadata": {},
   "outputs": [],
   "source": [
    "wrong_ids = [\n",
    "        '6I0tz1wUfI3ibXHhjBdsv1',\n",
    "        '3RTTs0HDk9rX2jqQa1BM1m',\n",
    "        '7rgEfw0lhGuUM2Yrk950fJ',\n",
    "        '50WEQ7sN1QT8xOEBSkLCgV',\n",
    "        '4QFoJ4MirBaeDulxhifTEU',\n",
    "        '5Tl3mhKpEAmso5QitemwJn',\n",
    "        '5ATmWQHi5cAZgqBUzf8qS9',\n",
    "        '57kR5SniQIbsbVoIjjOUDa'\n",
    "        ]\n",
    "\n",
    "right_ids = [\n",
    "        '7bTlID6vzqECC5Vq61mysd',\n",
    "        '5vVZaiK2mIL9WE1GWikOE6',\n",
    "        '0H1GWNCOu7BcrxufcFgo9Z',\n",
    "        '0DbcdVCzmY1IjilPTPaSOe',\n",
    "        '2razPef7w7IoxNvG8plxsC',\n",
    "        '0iC9wa4ARcVk0oV1zXpwjv',\n",
    "        '3BfYDQC9SKBN1QCWVGb7C4',\n",
    "        '7K6J5sDjzyON20FjMCW92Z'\n",
    "        ]\n",
    "\n",
    "songs_df['ID'] = songs_df['ID'].replace(wrong_ids, right_ids)"
   ]
  },
  {
   "attachments": {},
   "cell_type": "markdown",
   "metadata": {},
   "source": [
    "*Exporting the Dataframe as a ``csv`` file*"
   ]
  },
  {
   "cell_type": "code",
   "execution_count": null,
   "metadata": {},
   "outputs": [],
   "source": [
    "songs_df.to_csv('songs.csv', index = False)"
   ]
  },
  {
   "attachments": {},
   "cell_type": "markdown",
   "metadata": {},
   "source": [
    "## 2. Extracting Acoustic Features"
   ]
  },
  {
   "attachments": {},
   "cell_type": "markdown",
   "metadata": {},
   "source": [
    "*Loading ``songs.csv`` from folder.*"
   ]
  },
  {
   "cell_type": "code",
   "execution_count": null,
   "metadata": {},
   "outputs": [],
   "source": [
    "songs_df = pd.read_csv('songs.csv')"
   ]
  },
  {
   "attachments": {},
   "cell_type": "markdown",
   "metadata": {},
   "source": [
    "### 2.1 Defining Features"
   ]
  },
  {
   "attachments": {},
   "cell_type": "markdown",
   "metadata": {},
   "source": [
    "*Defining a list of features to retrieve and creating an empty python dictionary*"
   ]
  },
  {
   "cell_type": "code",
   "execution_count": null,
   "metadata": {},
   "outputs": [],
   "source": [
    "features = ['danceability', 'energy', 'loudness', 'speechiness', 'acousticness', 'instrumentalness', 'liveness', 'valence', 'tempo']\n",
    "feat_dict = {f:[] for f in features}"
   ]
  },
  {
   "attachments": {},
   "cell_type": "markdown",
   "metadata": {},
   "source": [
    "### 2.2 Retrieving Features"
   ]
  },
  {
   "attachments": {},
   "cell_type": "markdown",
   "metadata": {},
   "source": [
    "*Populating the feature dictionary with values retrieved with* Spotify API.\\\n",
    "***Note:*** *``max_ids`` defines the maximum numbers of IDs for which* Spotify *allows to retrieve values with one single request (i.e. 100).*"
   ]
  },
  {
   "cell_type": "code",
   "execution_count": null,
   "metadata": {},
   "outputs": [],
   "source": [
    "IDs = list(songs_df['ID'])\n",
    "max_ids = 100\n",
    "cuts = [i*max_ids for i in range(1,len(IDs)//max_ids+1)]\n",
    "IDs = np.split(IDs, cuts)\n",
    "\n",
    "for idx in IDs:\n",
    "    idx = idx.tolist()\n",
    "    res = spoti.get_features(idx)['audio_features']\n",
    "    for feat in features:\n",
    "        for song in res:\n",
    "            feat_dict[feat].append(song[feat])"
   ]
  },
  {
   "attachments": {},
   "cell_type": "markdown",
   "metadata": {},
   "source": [
    "### 2.3 Updating DataFrame and Exporting"
   ]
  },
  {
   "cell_type": "code",
   "execution_count": null,
   "metadata": {},
   "outputs": [],
   "source": [
    "feat_df = pd.DataFrame(feat_dict, columns = features)\n",
    "feat_df = pd.concat([songs_df, feat_df], axis = 1)\n",
    "feat_df.to_csv('features.csv', index = False)"
   ]
  }
 ],
 "metadata": {
  "kernelspec": {
   "display_name": "Python 3",
   "language": "python",
   "name": "python3"
  },
  "language_info": {
   "codemirror_mode": {
    "name": "ipython",
    "version": 3
   },
   "file_extension": ".py",
   "mimetype": "text/x-python",
   "name": "python",
   "nbconvert_exporter": "python",
   "pygments_lexer": "ipython3",
   "version": "3.8.2 (default, Dec 21 2020, 15:06:04) \n[Clang 12.0.0 (clang-1200.0.32.29)]"
  },
  "orig_nbformat": 4,
  "vscode": {
   "interpreter": {
    "hash": "31f2aee4e71d21fbe5cf8b01ff0e069b9275f58929596ceb00d14d90e3e16cd6"
   }
  }
 },
 "nbformat": 4,
 "nbformat_minor": 2
}
